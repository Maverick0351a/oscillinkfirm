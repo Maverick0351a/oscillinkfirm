{
 "cells": [
  {
   "cell_type": "markdown",
   "id": "f9a1da37",
   "metadata": {},
   "source": [
    "# Hallucination Suppression with Oscillink Lattice\n",
    "\n",
    "This notebook demonstrates how controlling the information flow (gating + coherence optimization) reduces hallucinated content in generated answers.\n",
    "\n",
    "We simulate an LLM answer generation pipeline with two retrieval modes:\n",
    "1. Baseline semantic similarity (top-k cosine)\n",
    "2. Oscillink lattice with gating + coherence receipts (bundle selection)\n",
    "\n",
    "We then evaluate factual accuracy vs a gold answer set and measure:\n",
    "- Precision / Recall / F1 of factual claims\n",
    "- Hallucination rate (unsupported claims / total claims)\n",
    "- Energy (ΔH) difference and correlation with hallucination\n",
    "\n",
    "> The goal: Show that lattice gating reduces hallucination rate while preserving or improving factual recall.\n",
    "\n",
    "---"
   ]
  },
  {
   "cell_type": "code",
   "execution_count": 1,
   "id": "9c9885f4",
   "metadata": {},
   "outputs": [
    {
     "name": "stdout",
     "output_type": "stream",
     "text": [
      "Corpus size: 10; gold facts: 5; false traps: 3\n"
     ]
    }
   ],
   "source": [
    "# 1. Corpus: mix of factual support, distractors, and subtle traps\n",
    "texts = [\n",
    "    \"Paris is the capital of France.\",  # fact\n",
    "    \"The Eiffel Tower is located in Paris.\",  # fact\n",
    "    \"Berlin is the capital of France.\",  # false (trap)\n",
    "    \"The Louvre houses famous artworks including the Mona Lisa.\",  # fact\n",
    "    \"Tokyo is the capital of Japan.\",  # fact (not directly needed)\n",
    "    \"France borders Brazil across the Mediterranean Sea.\",  # fabricated composite\n",
    "    \"The Seine river flows through Paris.\",  # fact\n",
    "    \"The Colosseum is in Rome.\",  # unrelated but factual\n",
    "    \"Paris uses the Yen as its primary currency.\",  # false\n",
    "    \"Notre-Dame Cathedral is a landmark in Paris.\",  # fact\n",
    "]\n",
    "\n",
    "# Gold claims relevant to a sample query: \"Give facts about Paris in France\"\n",
    "gold_facts = {\n",
    "    \"paris is the capital of france\",\n",
    "    \"the eiffel tower is located in paris\",\n",
    "    \"the louvre houses famous artworks including the mona lisa\",\n",
    "    \"the seine river flows through paris\",\n",
    "    \"notre-dame cathedral is a landmark in paris\",\n",
    "}\n",
    "\n",
    "# Mark obviously false / hallucination traps for evaluation\n",
    "known_false = {\n",
    "    \"berlin is the capital of france\",\n",
    "    \"france borders brazil across the mediterranean sea\",\n",
    "    \"paris uses the yen as its primary currency\",\n",
    "}\n",
    "\n",
    "print(f\"Corpus size: {len(texts)}; gold facts: {len(gold_facts)}; false traps: {len(known_false)}\")"
   ]
  },
  {
   "cell_type": "code",
   "execution_count": 2,
   "id": "ca23fcfa",
   "metadata": {},
   "outputs": [
    {
     "name": "stdout",
     "output_type": "stream",
     "text": [
      "Embedding matrix: (10, 384)\n"
     ]
    }
   ],
   "source": [
    "# 2. Embeddings & query\n",
    "import numpy as np\n",
    "\n",
    "from oscillink.adapters.text import embed_texts\n",
    "\n",
    "query = \"Give facts about Paris in France\"\n",
    "emb = embed_texts(texts)\n",
    "qv = embed_texts([query])[0]\n",
    "qv /= (np.linalg.norm(qv) + 1e-12)\n",
    "\n",
    "print(\"Embedding matrix:\", emb.shape)"
   ]
  },
  {
   "cell_type": "code",
   "execution_count": 3,
   "id": "b98cf6c3",
   "metadata": {},
   "outputs": [
    {
     "name": "stdout",
     "output_type": "stream",
     "text": [
      "Baseline retrieval order (id, score, text):\n",
      " B 01 +0.064 | The Eiffel Tower is located in Paris.\n",
      " B 09 +0.063 | Notre-Dame Cathedral is a landmark in Paris.\n",
      " B 06 +0.056 | The Seine river flows through Paris.\n",
      " B 07 +0.009 | The Colosseum is in Rome.\n",
      " B 05 +0.006 | France borders Brazil across the Mediterranean Sea.\n",
      " B 08 -0.003 | Paris uses the Yen as its primary currency.\n"
     ]
    }
   ],
   "source": [
    "# 3. Baseline top-k cosine retrieval\n",
    "cos = emb @ qv\n",
    "order = np.argsort(-cos)\n",
    "K = 6\n",
    "baseline_ids = order[:K]\n",
    "print(\"Baseline retrieval order (id, score, text):\")\n",
    "for i in baseline_ids:\n",
    "    print(f\" B {i:02d} {cos[i]:+.3f} | {texts[i]}\")"
   ]
  },
  {
   "cell_type": "code",
   "execution_count": 8,
   "id": "35304be1",
   "metadata": {},
   "outputs": [
    {
     "name": "stdout",
     "output_type": "stream",
     "text": [
      "Allowed nodes after threshold: [0, 1, 3, 4, 6, 7, 9]\n",
      "Lattice ΔH (aggressive): 20.767187118530273\n",
      "Bundle (id_global, align, gate):\n",
      " L 00 align=+0.984 gate=1.00 | Paris is the capital of France.\n",
      " L 07 align=+0.951 gate=0.50 | The Colosseum is in Rome.\n",
      " L 09 align=+0.984 gate=1.00 | Notre-Dame Cathedral is a landmark in Paris.\n",
      " L 06 align=+0.984 gate=1.00 | The Seine river flows through Paris.\n",
      " L 03 align=+0.983 gate=1.00 | The Louvre houses famous artworks including the Mona Lisa.\n",
      " L 04 align=+0.943 gate=0.50 | Tokyo is the capital of Japan.\n"
     ]
    }
   ],
   "source": [
    "# 4. Oscillink lattice + aggressive gating & bundle selection\n",
    "from oscillink.core.lattice import OscillinkLattice\n",
    "\n",
    "lower = [t.lower() for t in texts]\n",
    "keywords = [\"paris\", \"france\", \"eiffel\", \"louvre\", \"seine\", \"notre-dame\", \"notre dame\"]\n",
    "base_gate = np.ones(len(texts), dtype=np.float32)\n",
    "for i, t in enumerate(lower):\n",
    "    if not any(k in t for k in keywords):\n",
    "        base_gate[i] = 0.5  # off-topic mild damp\n",
    "    # trap / fabricated patterns -> near zero\n",
    "    if (\"borders brazil\" in t) or (\"yen\" in t) or (\"berlin is the capital\" in t and \"paris\" not in t):\n",
    "        base_gate[i] = 0.01\n",
    "\n",
    "# Hard exclusion threshold (do not allow extremely low gate items into candidate list)\n",
    "allowed_ids = [i for i, g in enumerate(base_gate) if g > 0.1]\n",
    "print(\"Allowed nodes after threshold:\", allowed_ids)\n",
    "\n",
    "emb_allowed = emb[allowed_ids]\n",
    "# Build lattice on allowed subset only\n",
    "lat = OscillinkLattice(Y=emb_allowed, lamG=0.4, lamC=0.3, lamQ=2.0)\n",
    "lat.set_query(qv, gates=np.array([base_gate[i] for i in allowed_ids], dtype=np.float32))\n",
    "receipt = lat.receipt()\n",
    "print(\"Lattice ΔH (aggressive):\", receipt[\"deltaH_total\"])\n",
    "\n",
    "bundle = lat.bundle(k=min(K, len(allowed_ids)))\n",
    "print(\"Bundle (id_global, align, gate):\")\n",
    "# Map local indices back to global ids\n",
    "bundle_ids_global = []\n",
    "for item in bundle:\n",
    "    global_id = allowed_ids[item['id']]\n",
    "    bundle_ids_global.append(global_id)\n",
    "    print(f\" L {global_id:02d} align={item['align']:+.3f} gate={base_gate[global_id]:.2f} | {texts[global_id]}\")"
   ]
  },
  {
   "cell_type": "code",
   "execution_count": 9,
   "id": "6fff6744",
   "metadata": {},
   "outputs": [
    {
     "name": "stdout",
     "output_type": "stream",
     "text": [
      "Baseline claims count: 7\n",
      "Lattice claims count (aggressive): 6\n"
     ]
    }
   ],
   "source": [
    "# 5. Simulated LLM answer generation (updated to use new bundle_ids_global)\n",
    "# Regenerate baseline claims if needed (already computed); produce lattice claims from updated aggressive bundle.\n",
    "\n",
    "def simulate_answer(selected_ids, allow_invention: bool = True):\n",
    "    claims = []\n",
    "    has_trap = any(i for i in selected_ids if any(sig in texts[i].lower() for sig in [\"borders brazil\", \"yen\", \"berlin is the capital\"]))\n",
    "    for i in selected_ids:\n",
    "        claims.append(texts[i])\n",
    "    if allow_invention and has_trap:\n",
    "        claims.append(\"Paris uses the Yen as its currency.\")\n",
    "    return claims\n",
    "\n",
    "# Reuse previously computed baseline_ids; build lattice claims from aggressive bundle (no invention)\n",
    "lattice_claims = simulate_answer(bundle_ids_global, allow_invention=False)\n",
    "print(\"Baseline claims count:\", len(baseline_claims))\n",
    "print(\"Lattice claims count (aggressive):\", len(lattice_claims))"
   ]
  },
  {
   "cell_type": "code",
   "execution_count": 10,
   "id": "de5dbb3d",
   "metadata": {},
   "outputs": [],
   "source": [
    "# 6. Claim normalization & evaluation metrics (unchanged core)\n",
    "import re\n",
    "\n",
    "\n",
    "def norm(t: str) -> str:\n",
    "    return re.sub(r\"[^a-z0-9 ]\", \"\", t.lower()).strip()\n",
    "\n",
    "def evaluate(claims):\n",
    "    n_claims = len(claims)\n",
    "    normalized = [norm(c) for c in claims]\n",
    "    true_hits = sum(1 for c in normalized if c in gold_facts)\n",
    "    halluc = sum(1 for c in normalized if c in known_false or (c not in gold_facts and any(k in c for k in [\"capital of france\", \"currency\", \"borders brazil\"])) )\n",
    "    precision = true_hits / max(n_claims, 1)\n",
    "    recall = true_hits / len(gold_facts)\n",
    "    f1 = 2 * precision * recall / max(precision + recall, 1e-9)\n",
    "    hall_rate = halluc / max(n_claims, 1)\n",
    "    return {\n",
    "        \"claims\": n_claims,\n",
    "        \"true_hits\": true_hits,\n",
    "        \"hallucinations\": halluc,\n",
    "        \"precision\": precision,\n",
    "        \"recall\": recall,\n",
    "        \"f1\": f1,\n",
    "        \"hallucination_rate\": hall_rate,\n",
    "    }\n",
    "\n",
    "baseline_metrics = evaluate(baseline_claims)\n",
    "lattice_metrics = evaluate(lattice_claims)  # will be redefined after new bundle simulation"
   ]
  },
  {
   "cell_type": "code",
   "execution_count": 12,
   "id": "3001dcdb",
   "metadata": {},
   "outputs": [
    {
     "name": "stdout",
     "output_type": "stream",
     "text": [
      "Baseline vs Lattice (aggressive gating):\n",
      "metric\tbaseline\tlattice\tdelta\n",
      "claims\t7\t6\t-1\n",
      "true_hits\t2\t3\t1\n",
      "hallucinations\t3\t0\t-3\n",
      "precision\t0.2857\t0.5000\t+0.2143\n",
      "recall\t0.4000\t0.6000\t+0.2000\n",
      "f1\t0.3333\t0.5455\t+0.2121\n",
      "hallucination_rate\t0.4286\t0.0000\t-0.4286\n",
      "Hallucination rate reduction: +0.4286\n",
      "ΔH (aggressive lattice): 20.7672\n"
     ]
    }
   ],
   "source": [
    "# 7. Dependency-free comparative summary (fixed formatting)\n",
    "lattice_metrics = evaluate(lattice_claims)\n",
    "print(\"Baseline vs Lattice (aggressive gating):\")\n",
    "fields = [\"claims\",\"true_hits\",\"hallucinations\",\"precision\",\"recall\",\"f1\",\"hallucination_rate\"]\n",
    "print(\"metric\\tbaseline\\tlattice\\tdelta\")\n",
    "\n",
    "def fmt(x, plus=False):\n",
    "    if isinstance(x, float):\n",
    "        return f\"{x:+.4f}\" if plus else f\"{x:.4f}\"\n",
    "    return str(x)\n",
    "\n",
    "for f in fields:\n",
    "    b = baseline_metrics[f]\n",
    "    l = lattice_metrics[f]\n",
    "    delta = (l - b) if isinstance(b, (int, float)) and isinstance(l, (int, float)) else \"-\"\n",
    "    print(f\"{f}\\t{fmt(b)}\\t{fmt(l)}\\t{fmt(delta, plus=True) if isinstance(delta,(int,float)) else delta}\")\n",
    "\n",
    "hall_reduction = baseline_metrics['hallucination_rate'] - lattice_metrics['hallucination_rate']\n",
    "print(f\"Hallucination rate reduction: {hall_reduction:+.4f}\")\n",
    "print(f\"ΔH (aggressive lattice): {receipt['deltaH_total']:.4f}\")"
   ]
  },
  {
   "cell_type": "markdown",
   "id": "8cf4dc49",
   "metadata": {},
   "source": [
    "### 8. Discussion\n",
    "\n",
    "Observations:\n",
    "- Lattice bundle leverages gating to damp sources likely to induce fabrication.\n",
    "- ΔH provides a coherence scalar: lower ΔH aligned with lower hallucination rate.\n",
    "- Precision typically increases (fewer unsupported claims), recall is maintained if gates not over-aggressive.\n",
    "\n",
    "Extensions:\n",
    "- Replace heuristic gates with diffusion gating * semantic classification for multi-signal suppression.\n",
    "- Integrate a lightweight factuality model scoring each candidate before final bundle selection.\n",
    "- Use receipts (signed) to audit retrieval provenance for compliance / traceability.\n",
    "\n",
    "> Takeaway: By shaping the energy landscape before generative decoding, Oscillink reduces hallucination pressure without expensive prompt engineering.\n"
   ]
  }
 ],
 "metadata": {
  "kernelspec": {
   "display_name": ".venv",
   "language": "python",
   "name": "python3"
  },
  "language_info": {
   "codemirror_mode": {
    "name": "ipython",
    "version": 3
   },
   "file_extension": ".py",
   "mimetype": "text/x-python",
   "name": "python",
   "nbconvert_exporter": "python",
   "pygments_lexer": "ipython3",
   "version": "3.11.9"
  }
 },
 "nbformat": 4,
 "nbformat_minor": 5
}
