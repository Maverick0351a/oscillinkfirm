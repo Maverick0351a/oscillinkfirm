{
 "cells": [
  {
   "cell_type": "markdown",
   "id": "6618e37f",
   "metadata": {},
   "source": [
    "# Constraint / Anti-Claim Gating Demo\n",
    "\n",
    "Goal: Support Claim X while attenuating Claim Y contradictions using a gating vector.\n",
    "\n",
    "Claim X: \"Renewable energy deployment reduces emissions.\"\n",
    "Claim Y (contradictory cluster): \"Coal usage is rapidly expanding everywhere.\"\n",
    "\n",
    "Sections:\n",
    "1. Corpus & labeling\n",
    "2. Embeddings\n",
    "3. Query & base similarity vector\n",
    "4. Gate construction (boost support, suppress contradiction)\n",
    "5. Uniform vs gated lattice receipts & bundles\n",
    "6. Comparison metrics (ΔH, support coverage, contradiction presence)\n"
   ]
  },
  {
   "cell_type": "code",
   "execution_count": 1,
   "id": "37720dc0",
   "metadata": {},
   "outputs": [
    {
     "name": "stdout",
     "output_type": "stream",
     "text": [
      "Total texts: 10\n",
      " 0 [suppor] Solar farms reduce reliance on fossil fuels.\n",
      " 1 [suppor] Wind energy displaces coal generation.\n",
      " 2 [suppor] Renewable deployment curbs greenhouse emissions.\n",
      " 3 [suppor] Battery storage stabilizes intermittent renewables.\n",
      " 4 [contra] Coal usage is rapidly expanding worldwide.\n",
      " 5 [contra] Emissions keep rising due to new coal plants.\n",
      " 6 [contra] Coal expansion outpaces renewable adoption.\n",
      " 7 [neutra] Smart grids balance supply and demand.\n",
      " 8 [neutra] Hydrogen can store surplus energy.\n",
      " 9 [neutra] Energy efficiency lowers consumption.\n"
     ]
    }
   ],
   "source": [
    "# 1. Corpus & labeling\n",
    "\n",
    "import numpy as np\n",
    "\n",
    "from oscillink import OscillinkLattice\n",
    "from oscillink.adapters.text import embed_texts\n",
    "\n",
    "np.random.seed(11)\n",
    "\n",
    "support_texts = [\n",
    "    \"Solar farms reduce reliance on fossil fuels.\",\n",
    "    \"Wind energy displaces coal generation.\",\n",
    "    \"Renewable deployment curbs greenhouse emissions.\",\n",
    "    \"Battery storage stabilizes intermittent renewables.\",\n",
    "]\n",
    "contradict_texts = [\n",
    "    \"Coal usage is rapidly expanding worldwide.\",\n",
    "    \"Emissions keep rising due to new coal plants.\",\n",
    "    \"Coal expansion outpaces renewable adoption.\",\n",
    "]\n",
    "neutral_texts = [\n",
    "    \"Smart grids balance supply and demand.\",\n",
    "    \"Hydrogen can store surplus energy.\",\n",
    "    \"Energy efficiency lowers consumption.\",\n",
    "]\n",
    "texts = support_texts + contradict_texts + neutral_texts\n",
    "labels = ([\"support\"] * len(support_texts) + [\"contra\"] * len(contradict_texts) + [\"neutral\"] * len(neutral_texts))\n",
    "print(\"Total texts:\", len(texts))\n",
    "for i,(t,lbl) in enumerate(zip(texts, labels)):\n",
    "    print(f\"{i:2d} [{lbl[:6]}] {t}\")"
   ]
  },
  {
   "cell_type": "code",
   "execution_count": 2,
   "id": "ee7ec389",
   "metadata": {},
   "outputs": [
    {
     "name": "stdout",
     "output_type": "stream",
     "text": [
      "Emb shape: (10, 384)\n",
      "Similarity stats: min=-0.140 max=0.083 mean=-0.005\n"
     ]
    }
   ],
   "source": [
    "# 2. Embeddings\n",
    "emb = embed_texts(texts)\n",
    "print(\"Emb shape:\", emb.shape)\n",
    "\n",
    "# 3. Query vector (embed the positive claim itself)\n",
    "claim_query = \"Renewable energy deployment reduces emissions.\"\n",
    "psi = embed_texts([claim_query])[0]\n",
    "psi /= (np.linalg.norm(psi) + 1e-12)\n",
    "\n",
    "# Base cosine similarities\n",
    "sims = emb @ psi\n",
    "print(f\"Similarity stats: min={sims.min():.3f} max={sims.max():.3f} mean={sims.mean():.3f}\")"
   ]
  },
  {
   "cell_type": "code",
   "execution_count": 3,
   "id": "76bee816",
   "metadata": {},
   "outputs": [
    {
     "name": "stdout",
     "output_type": "stream",
     "text": [
      "Raw gates: [0.65 0.65 0.65 0.65 0.65 0.65 0.65 0.65 0.65 0.65]\n",
      "Refined gates: [0.65  0.625 0.592 0.633 0.592 0.627 0.52  0.583 0.586 0.583]\n"
     ]
    }
   ],
   "source": [
    "# 4. Build gating vector\n",
    "# Strategy: boost supporting, mildly damp neutral, strongly damp contradicting.\n",
    "labels_arr = np.array(labels)\n",
    "\n",
    "support_gate = 1.0\n",
    "neutral_gate = 0.65\n",
    "contradict_gate = 0.15\n",
    "\n",
    "raw_gates = np.where(labels_arr == 1, support_gate,\n",
    "               np.where(labels_arr == -1, contradict_gate, neutral_gate))\n",
    "\n",
    "# Optional: blend with similarity to refine (higher similarity within same class gets a bit more weight)\n",
    "alpha = 0.4\n",
    "sims_pos = sims - sims.min()\n",
    "if sims_pos.max() > 0:\n",
    "    sims_pos /= sims_pos.max()\n",
    "refined_gates = (1 - alpha) * raw_gates + alpha * (raw_gates * (0.5 + 0.5 * sims_pos))\n",
    "\n",
    "print(\"Raw gates:\", raw_gates)\n",
    "print(\"Refined gates:\", np.round(refined_gates, 3))"
   ]
  },
  {
   "cell_type": "code",
   "execution_count": 6,
   "id": "a7395937",
   "metadata": {},
   "outputs": [
    {
     "name": "stdout",
     "output_type": "stream",
     "text": [
      "Uniform ΔH: 11.185103416442871\n",
      "Uniform bundle (id, label, align):\n",
      " U 00 [support] align=+0.922 Solar farms reduce reliance on fossil fuels.\n",
      " U 02 [support] align=+0.915 Renewable deployment curbs greenhouse emissions.\n",
      " U 05 [contra] align=+0.919 Emissions keep rising due to new coal plants.\n",
      " U 03 [support] align=+0.920 Battery storage stabilizes intermittent renewables.\n",
      " U 09 [neutral] align=+0.914 Energy efficiency lowers consumption.\n",
      " U 01 [support] align=+0.919 Wind energy displaces coal generation.\n"
     ]
    }
   ],
   "source": [
    "# 5. Uniform lattice (no constraint gating)\n",
    "from oscillink.core.lattice import OscillinkLattice\n",
    "\n",
    "lat_uniform = OscillinkLattice(Y=emb, lamG=0.35, lamC=0.0, lamQ=0.8)\n",
    "lat_uniform.set_query(psi)  # uniform gates (all ones) implicit\n",
    "receipt_uniform = lat_uniform.receipt()\n",
    "print(\"Uniform ΔH:\", receipt_uniform[\"deltaH_total\"])\n",
    "\n",
    "bundle_u = lat_uniform.bundle(k=6)\n",
    "print(\"Uniform bundle (id, label, align):\")\n",
    "for item in bundle_u:\n",
    "    i = item[\"id\"]\n",
    "    lab = labels[i]\n",
    "    lab_str = f\"{lab:+d}\" if isinstance(lab, (int, np.integer)) else str(lab)\n",
    "    print(f\" U {i:02d} [{lab_str}] align={item['align']:+.3f} {texts[i][:70]}\")"
   ]
  },
  {
   "cell_type": "code",
   "execution_count": 7,
   "id": "413d3594",
   "metadata": {},
   "outputs": [
    {
     "name": "stdout",
     "output_type": "stream",
     "text": [
      "Gated ΔH: 5.542004585266113\n",
      "Gated bundle (id, label, gate, align):\n",
      " G 00 [support] gate=0.65 align=+0.844 Solar farms reduce reliance on fossil fuels.\n",
      " G 02 [support] gate=0.59 align=+0.801 Renewable deployment curbs greenhouse emissions.\n",
      " G 05 [contra] gate=0.63 align=+0.828 Emissions keep rising due to new coal plants.\n",
      " G 03 [support] gate=0.63 align=+0.832 Battery storage stabilizes intermittent renewables.\n",
      " G 09 [neutral] gate=0.58 align=+0.793 Energy efficiency lowers consumption.\n",
      " G 01 [support] gate=0.62 align=+0.827 Wind energy displaces coal generation.\n"
     ]
    }
   ],
   "source": [
    "# 6. Constraint-gated lattice\n",
    "# Apply gates via lattice B_diag rather than scaling embeddings.\n",
    "lat_gated = OscillinkLattice(Y=emb, lamG=0.35, lamC=0.0, lamQ=0.8)\n",
    "lat_gated.set_query(psi, gates=refined_gates.astype(np.float32))\n",
    "receipt_gated = lat_gated.receipt()\n",
    "print(\"Gated ΔH:\", receipt_gated[\"deltaH_total\"])\n",
    "\n",
    "bundle_g = lat_gated.bundle(k=6)\n",
    "print(\"Gated bundle (id, label, gate, align):\")\n",
    "for item in bundle_g:\n",
    "    i = item[\"id\"]\n",
    "    lab = labels[i]\n",
    "    lab_str = f\"{lab:+d}\" if isinstance(lab, (int, np.integer)) else str(lab)\n",
    "    print(f\" G {i:02d} [{lab_str}] gate={refined_gates[i]:.2f} align={item['align']:+.3f} {texts[i][:70]}\")"
   ]
  },
  {
   "cell_type": "code",
   "execution_count": 9,
   "id": "713c4acd",
   "metadata": {},
   "outputs": [
    {
     "name": "stdout",
     "output_type": "stream",
     "text": [
      "Bundle composition (support, contradiction, neutral):\n",
      "Uniform : S=4 C=1 N=1\n",
      "Gated   : S=4 C=1 N=1\n",
      "Support improvement: +0\n",
      "Contradiction leakage reduction: +0\n",
      "ΔH change (lower better): 11.1851 -> 5.5420 (-50.5% change)\n"
     ]
    }
   ],
   "source": [
    "# 7. Metrics: support coverage, contradiction leakage, ΔH change\n",
    "\n",
    "# Recompute id lists (ensure cells executed in order)\n",
    "ids_u = [item['id'] for item in bundle_u]\n",
    "ids_g = [item['id'] for item in bundle_g]\n",
    "\n",
    "labels_arr = np.array(labels)\n",
    "\n",
    "# Map textual labels to numeric classes for counting\n",
    "label_map = {\"support\": 1, \"contra\": -1, \"neutral\": 0}\n",
    "label_nums = np.array([label_map.get(l, 0) if isinstance(l, str) else l for l in labels])\n",
    "\n",
    "def bundle_stats(id_list, label_arr):\n",
    "    if not id_list:\n",
    "        return 0, 0, 0\n",
    "    sup = int(np.sum(label_arr[id_list] == 1))\n",
    "    contra = int(np.sum(label_arr[id_list] == -1))\n",
    "    neut = int(np.sum(label_arr[id_list] == 0))\n",
    "    return sup, contra, neut\n",
    "\n",
    "sup_u, contra_u, neut_u = bundle_stats(ids_u, label_nums)\n",
    "sup_g, contra_g, neut_g = bundle_stats(ids_g, label_nums)\n",
    "\n",
    "print(\"Bundle composition (support, contradiction, neutral):\")\n",
    "print(f\"Uniform : S={sup_u} C={contra_u} N={neut_u}\")\n",
    "print(f\"Gated   : S={sup_g} C={contra_g} N={neut_g}\")\n",
    "\n",
    "impr_support = sup_g - sup_u\n",
    "leakage_reduction = contra_u - contra_g\n",
    "\n",
    "print(f\"Support improvement: {impr_support:+d}\")\n",
    "print(f\"Contradiction leakage reduction: {leakage_reduction:+d}\")\n",
    "ΔH_u = receipt_uniform[\"deltaH_total\"]\n",
    "ΔH_g = receipt_gated[\"deltaH_total\"]\n",
    "print(f\"ΔH change (lower better): {ΔH_u:.4f} -> {ΔH_g:.4f} ({100.0 * (ΔH_g - ΔH_u) / max(ΔH_u, 1e-9):+.1f}% change)\")"
   ]
  },
  {
   "cell_type": "markdown",
   "id": "2940a453",
   "metadata": {},
   "source": [
    "### 8. Discussion\n",
    "\n",
    "We demonstrated a simple constraint-aware gating mechanism:\n",
    "\n",
    "- Constructed gates from semantic label (+ support / - contradiction / 0 neutral) with refined similarity blending.\n",
    "- Applied gates multiplicatively to embeddings prior to lattice settle (preserves lattice mechanics while biasing energy landscape).\n",
    "- Observed changes in:\n",
    "  - Bundle composition (support coverage increase, contradiction leakage reduction).\n",
    "  - Global energy (ΔH). Lower ΔH after gating indicates improved coherence under the constraint objective.\n",
    "\n",
    "This is a minimal example; more sophisticated strategies can:\n",
    "- Learn gates via convex optimization aligning with a structured constraint vector.\n",
    "- Combine diffusion gating with semantic constraint gating (element-wise min or learned blend).\n",
    "- Calibrate neutral/contradiction scales using validation ΔH or downstream answer accuracy.\n",
    "\n",
    "Next notebook (04) will extend this toward hallucination suppression by penalizing unsupported high-similarity distractors.\n",
    "\n",
    "> Tip: To integrate into production, pre-compute class-conditioned gate templates and blend per query rather than recomputing from scratch.\n"
   ]
  }
 ],
 "metadata": {
  "kernelspec": {
   "display_name": ".venv",
   "language": "python",
   "name": "python3"
  },
  "language_info": {
   "codemirror_mode": {
    "name": "ipython",
    "version": 3
   },
   "file_extension": ".py",
   "mimetype": "text/x-python",
   "name": "python",
   "nbconvert_exporter": "python",
   "pygments_lexer": "ipython3",
   "version": "3.11.9"
  }
 },
 "nbformat": 4,
 "nbformat_minor": 5
}
