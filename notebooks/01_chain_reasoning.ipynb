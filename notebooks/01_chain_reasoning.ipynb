{
 "cells": [
  {
   "cell_type": "markdown",
   "id": "a22a1b58",
   "metadata": {},
   "source": [
    "# Chain Reasoning, Persistence & Naive Baseline\n",
    "\n",
    "End-to-end demonstration of multi-hop chain priors, weakest link diagnostics, and state persistence vs a naive cosine top-k baseline.\n",
    "\n",
    "Outline:\n",
    "1. Define small factual corpus forming a geography chain with distractors.\n",
    "2. Embed texts (real model if installed; fallback hash embedding otherwise).\n",
    "3. Naive cosine top-k retrieval.\n",
    "4. Lattice with chain prior: receipt, chain verdict, weakest link.\n",
    "5. Bundle vs naive list.\n",
    "6. Persistence export/import; verify cached U* reuse.\n",
    "7. Structural mutation invalidates signature and forces recompute.\n",
    "\n",
    "Each section is self-contained so you can re-run selectively."
   ]
  },
  {
   "cell_type": "code",
   "execution_count": null,
   "id": "7eefc679",
   "metadata": {},
   "outputs": [],
   "source": [
    "# 1. Imports & utility helpers\n",
    "from typing import List, Tuple\n",
    "\n",
    "import numpy as np\n",
    "\n",
    "from oscillink import OscillinkLattice\n",
    "from oscillink.adapters.text import embed_texts\n",
    "\n",
    "np.random.seed(42)\n",
    "\n",
    "def cosine_topk(mat: np.ndarray, q: np.ndarray, k: int = 5) -> List[Tuple[int, float]]:\n",
    "    qn = q / (np.linalg.norm(q) + 1e-12)\n",
    "    sims = (mat @ qn)\n",
    "    idx = np.argsort(-sims)[:k]\n",
    "    return [(int(i), float(sims[i])) for i in idx]\n",
    "\n",
    "def describe(title: str):\n",
    "    print(f\"\\n=== {title} ===\")"
   ]
  },
  {
   "cell_type": "code",
   "execution_count": null,
   "id": "c09bf31c",
   "metadata": {},
   "outputs": [],
   "source": [
    "# 2. Corpus definition (multi-hop chain + distractors)\n",
    "texts = [\n",
    "    \"Paris is in France.\",               # 0\n",
    "    \"France is part of Europe.\",         # 1\n",
    "    \"Europe is a continent.\",            # 2\n",
    "    \"A continent contains many countries.\", # 3 (supports chain context)\n",
    "    \"Tokyo is in Japan.\",                # 4 distractor cluster\n",
    "    \"Japan is an island nation.\",        # 5 distractor cluster\n",
    "    \"Basketball is a team sport.\",       # 6 unrelated\n",
    "    \"The Eiffel Tower is in Paris.\",     # 7 supportive to Paris\n",
    "    \"France borders Spain.\",             # 8 supportive to France\n",
    "    \"Europe has multiple climates.\"      # 9 supportive to Europe\n",
    "]\n",
    "\n",
    "chain_indices = [0, 1, 2]  # Paris -> France -> Europe\n",
    "\n",
    "print(f\"Total texts: {len(texts)} | Chain nodes: {chain_indices}\")\n",
    "for i, t in enumerate(texts):\n",
    "    print(f\"{i:2d}: {t}\")"
   ]
  },
  {
   "cell_type": "code",
   "execution_count": null,
   "id": "e7e2fe71",
   "metadata": {},
   "outputs": [],
   "source": [
    "# 3. Generate embeddings (real model if available, else deterministic hash fallback)\n",
    "emb = embed_texts(texts)\n",
    "print(\"Embeddings shape:\", emb.shape)\n",
    "\n",
    "# Choose query embedding: average of chain endpoints + slight emphasis on middle hop\n",
    "psi = (emb[chain_indices].mean(axis=0)).astype(np.float32)\n",
    "psi /= (np.linalg.norm(psi) + 1e-12)\n",
    "print(\"Query vector norm:\", np.linalg.norm(psi))\n",
    "\n",
    "# 4. Naive cosine top-k baseline\n",
    "k = 6\n",
    "baseline = cosine_topk(emb, psi, k=k)\n",
    "describe(\"Naive cosine top-k\")\n",
    "for i, score in baseline:\n",
    "    print(f\"idx={i:2d} score={score:.4f} text={texts[i]}\")"
   ]
  },
  {
   "cell_type": "code",
   "execution_count": null,
   "id": "35de8830",
   "metadata": {},
   "outputs": [],
   "source": [
    "# 5. Build lattice and add chain prior\n",
    "lat = OscillinkLattice(emb, kneighbors=6, lamG=1.0, lamC=0.6, lamQ=4.0, deterministic_k=True)\n",
    "lat.set_query(psi)\n",
    "lat.add_chain(chain_indices, lamP=0.25)\n",
    "settle_info = lat.settle(max_iters=12, tol=1e-3)\n",
    "rec = lat.receipt()\n",
    "chain_rec = lat.chain_receipt(chain_indices)\n",
    "bundle = lat.bundle(k=6)\n",
    "\n",
    "describe(\"Lattice receipt summary\")\n",
    "print(\"ΔH_total:\", rec[\"deltaH_total\"], \"null_points:\", len(rec.get(\"null_points\", [])))\n",
    "print(\"ustar iters/res:\", rec[\"meta\"].get(\"ustar_iters\"), rec[\"meta\"].get(\"ustar_res\"))\n",
    "\n",
    "describe(\"Chain receipt\")\n",
    "print(\"verdict:\", chain_rec[\"verdict\"], \"weakest_link:\", chain_rec.get(\"weakest_link\"))\n",
    "\n",
    "# Map bundle indices to texts\n",
    "bundle_view = [\n",
    "    {\"rank\": r+1, \"id\": b[\"id\"], \"score\": round(b[\"score\"],4), \"align\": round(b[\"align\"],4), \"text\": texts[b[\"id\"]][:50]} \n",
    "    for r, b in enumerate(bundle)\n",
    "]\n",
    "describe(\"Bundle top-6\")\n",
    "for row in bundle_view:\n",
    "    print(row)"
   ]
  },
  {
   "cell_type": "code",
   "execution_count": null,
   "id": "760557a9",
   "metadata": {},
   "outputs": [],
   "source": [
    "# 6. Compare baseline vs bundle coverage for chain\n",
    "baseline_ids = {i for i,_ in baseline}\n",
    "bundle_ids = {b['id'] for b in bundle}\n",
    "chain_set = set(chain_indices)\n",
    "\n",
    "def coverage(ids):\n",
    "    return len(ids & chain_set) / len(chain_set)\n",
    "\n",
    "print(\"Baseline chain coverage:\", coverage(baseline_ids))\n",
    "print(\"Bundle chain coverage  :\", coverage(bundle_ids))\n",
    "print(\"Missed chain nodes baseline:\", list(chain_set - baseline_ids))\n",
    "print(\"Missed chain nodes bundle  :\", list(chain_set - bundle_ids))"
   ]
  },
  {
   "cell_type": "code",
   "execution_count": null,
   "id": "aec0859f",
   "metadata": {},
   "outputs": [],
   "source": [
    "# 7. Persistence: export / import and verify cached U* reuse\n",
    "state = lat.export_state()\n",
    "from oscillink import OscillinkLattice as OL\n",
    "\n",
    "lat2 = OL.from_state(state)\n",
    "# Re-run receipt & bundle; expect 0 new solves if cache metadata preserved.\n",
    "rec2 = lat2.receipt()\n",
    "bundle2 = lat2.bundle(k=6)\n",
    "print(\"ustar_solves original -> copy:\", lat.stats.get(\"ustar_solves\"), \"->\", lat2.stats.get(\"ustar_solves\"))\n",
    "print(\"cache hits copy:\", lat2.stats.get(\"ustar_cache_hits\"))\n",
    "print(\"state provenance equal:\", state[\"provenance\"] == lat2.export_state()[\"provenance\"])"
   ]
  },
  {
   "cell_type": "code",
   "execution_count": null,
   "id": "6df65642",
   "metadata": {},
   "outputs": [],
   "source": [
    "# 8. Structural mutation: change a supporting text and observe signature invalidation\n",
    "mutated_texts = texts.copy()\n",
    "mutated_texts[1] = \"France is a sovereign state in East Asia.\"  # incorrect shift\n",
    "emb_mut = embed_texts(mutated_texts)\n",
    "lat_mut = OscillinkLattice(emb_mut, kneighbors=6, lamG=1.0, lamC=0.6, lamQ=4.0, deterministic_k=True)\n",
    "lat_mut.set_query(psi)\n",
    "lat_mut.add_chain(chain_indices, lamP=0.25)\n",
    "lat_mut.settle(max_iters=12, tol=1e-3)\n",
    "rec_mut = lat_mut.receipt()\n",
    "print(\"Original deltaH:\", rec[\"deltaH_total\"], \"Mutated deltaH:\", rec_mut[\"deltaH_total\"])\n",
    "print(\"Signature changed:\", rec[\"meta\"][\"signature\"][\"payload\"][\"state_sig\"] != rec_mut[\"meta\"][\"signature\"][\"payload\"][\"state_sig\"])"
   ]
  }
 ],
 "metadata": {
  "language_info": {
   "name": "python"
  }
 },
 "nbformat": 4,
 "nbformat_minor": 5
}
