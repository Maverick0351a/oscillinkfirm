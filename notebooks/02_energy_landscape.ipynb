{
 "cells": [
  {
   "cell_type": "markdown",
   "id": "86aabd87",
   "metadata": {},
   "source": [
    "# Energy Landscape & ΔH Convergence\n",
    "\n",
    "Track total energy (ΔH) under uniform vs diffusion-gated query influence. We approximate an iterative trajectory by recording ΔH after each partial settle call with a decreasing tolerance schedule.\n",
    "\n",
    "Sections:\n",
    "1. Embeddings (synthetic semantic clusters)\n",
    "2. Uniform lattice pseudo-iteration trajectory\n",
    "3. Diffusion gating trajectory\n",
    "4. Overlay plot & summary stats\n",
    "5. Energy reduction and gate distribution\n"
   ]
  },
  {
   "cell_type": "code",
   "execution_count": null,
   "id": "c4db8157",
   "metadata": {},
   "outputs": [],
   "source": [
    "# 1. Imports & synthetic clustered embeddings\n",
    "import matplotlib.pyplot as plt\n",
    "import numpy as np\n",
    "\n",
    "from oscillink import OscillinkLattice, compute_diffusion_gates\n",
    "\n",
    "np.random.seed(7)\n",
    "\n",
    "# Build synthetic embeddings: 3 clusters with slight offsets\n",
    "clusters = 3\n",
    "points_per = 80\n",
    "D = 64\n",
    "base = np.random.randn(clusters, D).astype(np.float32)\n",
    "base /= np.linalg.norm(base, axis=1, keepdims=True)\n",
    "Y_list = []\n",
    "labels = []\n",
    "for c in range(clusters):\n",
    "    center = base[c]\n",
    "    for _ in range(points_per):\n",
    "        vec = center + 0.25 * np.random.randn(D).astype(np.float32)\n",
    "        vec /= (np.linalg.norm(vec) + 1e-12)\n",
    "        Y_list.append(vec)\n",
    "        labels.append(c)\n",
    "Y = np.vstack(Y_list).astype(np.float32)\n",
    "N = Y.shape[0]\n",
    "print(\"Embeddings shape:\", Y.shape)\n",
    "\n",
    "# Query as mixture of cluster 0 and 1\n",
    "psi = (base[0] + 0.8 * base[1])\n",
    "psi /= (np.linalg.norm(psi) + 1e-12)\n"
   ]
  },
  {
   "cell_type": "code",
   "execution_count": null,
   "id": "fe9da6ce",
   "metadata": {},
   "outputs": [],
   "source": [
    "# 2. Helper to record pseudo-iterative ΔH by repeated short settles\n",
    "\n",
    "def energy_trajectory(lattice: OscillinkLattice, steps: int = 10, base_tol: float = 1e-2):\n",
    "    traj = []\n",
    "    for s in range(steps):\n",
    "        # progressively tighten tolerance; limit iterations to simulate incremental refinement\n",
    "        tol = base_tol * (0.5 ** s)\n",
    "        lattice.settle(max_iters=4, tol=tol)\n",
    "        rec = lattice.receipt()\n",
    "        traj.append(rec[\"deltaH_total\"])\n",
    "    return traj\n",
    "\n",
    "# Uniform lattice\n",
    "lat_uniform = OscillinkLattice(Y, kneighbors=8, lamG=1.0, lamC=0.6, lamQ=3.5, deterministic_k=True)\n",
    "lat_uniform.set_query(psi)\n",
    "traj_uniform = energy_trajectory(lat_uniform, steps=9)\n",
    "print(\"Final uniform ΔH:\", traj_uniform[-1])"
   ]
  },
  {
   "cell_type": "code",
   "execution_count": null,
   "id": "bf248023",
   "metadata": {},
   "outputs": [],
   "source": [
    "# 3. Diffusion gating trajectory\n",
    "gates = compute_diffusion_gates(Y, psi, kneighbors=8, beta=1.0, gamma=0.12, deterministic_k=True)\n",
    "lat_diff = OscillinkLattice(Y, kneighbors=8, lamG=1.0, lamC=0.6, lamQ=3.5, deterministic_k=True)\n",
    "lat_diff.set_query(psi, gates=gates)\n",
    "traj_diff = energy_trajectory(lat_diff, steps=9)\n",
    "print(\"Final diffusion ΔH:\", traj_diff[-1])\n",
    "print(\"Energy reduction %:\", 100.0 * (traj_uniform[-1] - traj_diff[-1]) / traj_uniform[-1])"
   ]
  },
  {
   "cell_type": "code",
   "execution_count": null,
   "id": "49539d82",
   "metadata": {},
   "outputs": [],
   "source": [
    "# 4. Overlay plot\n",
    "plt.figure(figsize=(6,4))\n",
    "plt.plot(traj_uniform, marker='o', label='Uniform')\n",
    "plt.plot(traj_diff, marker='o', label='Diffusion')\n",
    "plt.xlabel('Pseudo-iteration')\n",
    "plt.ylabel('ΔH total')\n",
    "plt.title('Energy Trajectory (Lower is Better)')\n",
    "plt.grid(alpha=0.3)\n",
    "plt.legend()\n",
    "plt.tight_layout()\n",
    "plt.show()\n",
    "\n",
    "# 5. Gate distribution summary\n",
    "print(f\"Gate stats: min={gates.min():.3f} max={gates.max():.3f} mean={gates.mean():.3f}\")\n",
    "print(\"Head gates:\", np.round(gates[:10], 3))"
   ]
  }
 ],
 "metadata": {
  "language_info": {
   "name": "python"
  }
 },
 "nbformat": 4,
 "nbformat_minor": 5
}
